{
 "cells": [
  {
   "cell_type": "markdown",
   "metadata": {},
   "source": [
    "# three-way entropy analysis \n",
    "\n",
    "This file tests a three-way entropy analysis between the sender's input objects (objects), the messages, and the receiver's selected objects (selections). \n",
    "\n",
    "We show for the five different conditions that the conditional mutual information between objects and selections given messages I(O,S|M) is approximately zero, and that the mutual information between objects and messages, I(O,M), is approximately equal to the mutual informatino between messages and selections, I(M,S). As explained in the paper, this means that an analysis of sender (objects-messages) and receiver (messages-selections) is symmetric, and we therefore only analyze the sender part. These analyses can be found in the 'lanugage_analysis.ipynb' file. \n",
    "\n",
    "The reported scores are not normalized. "
   ]
  },
  {
   "cell_type": "code",
   "execution_count": 1,
   "metadata": {},
   "outputs": [],
   "source": [
    "import tensorflow as tf\n",
    "import numpy as np\n",
    "from nn import agents\n",
    "from utils.load_data import collect_examples_per_class\n",
    "from utils.entropy_scores import ThreeWayEntropyScores\n",
    "from utils.referential_data import make_referential_data\n",
    "from utils.config import get_cnn_paths"
   ]
  },
  {
   "cell_type": "markdown",
   "metadata": {},
   "source": [
    "### calculate the scores "
   ]
  },
  {
   "cell_type": "code",
   "execution_count": 2,
   "metadata": {},
   "outputs": [],
   "source": [
    "# Load data, we use a subset of 50 examples per class to reduce computation time\n",
    "\n",
    "train_data, _ = collect_examples_per_class()\n",
    "train_labels = tf.one_hot(np.concatenate([[l]*50 for l in range(64)]), depth=64).numpy()\n",
    "sender_input, receiver_input, ref_labels, td_labels, permutation = make_referential_data(\n",
    "    [train_data, train_data, train_labels], return_permutation=True)\n",
    "\n",
    "td_label_array = np.array([np.argmax(l, axis=1) for l in td_labels])\n",
    "td_label_array = np.transpose(td_label_array)\n",
    "\n",
    "ordered_labels = np.zeros_like(td_label_array) # needed to identify the class labels of the receiver's selections\n",
    "for i, perm in enumerate(permutation):\n",
    "    ordered_labels[i,:] = td_label_array[i,perm]"
   ]
  },
  {
   "cell_type": "code",
   "execution_count": 3,
   "metadata": {},
   "outputs": [
    {
     "name": "stdout",
     "output_type": "stream",
     "text": [
      "calculating condition: default\n",
      "calculating condition: color\n",
      "calculating condition: scale\n",
      "calculating condition: shape\n",
      "calculating condition: all\n"
     ]
    }
   ],
   "source": [
    "# for all five conditions (DEFAULT, COLOR, SCALE, SHAPE, ALL), determine the entropy scores of interest\n",
    "\n",
    "mode = 'language_emergence_basic'\n",
    "conditions = ['default', 'color', 'scale', 'shape', 'all']\n",
    "cnns = ['default0-0', 'color0-6', 'scale0-6', 'shape0-6', 'all0-8']\n",
    "all_cnn_paths = get_cnn_paths()\n",
    "\n",
    "scores = {}\n",
    "\n",
    "for c, condition in enumerate(conditions):\n",
    "    print('calculating condition: ' + str(condition))\n",
    "    \n",
    "    scores[condition] = {'I_OM': [], 'I_MS': [], 'I_OS_given_M': []}\n",
    "    \n",
    "    for run in range(10):\n",
    "        path = 'results/' + mode + '/' + condition + str(run) + '/vs4_ml3/'\n",
    "        \n",
    "        # get messages and selections\n",
    "        \n",
    "        cnn_sender = tf.keras.models.load_model(all_cnn_paths[cnns[c]])\n",
    "        cnn_receiver = tf.keras.models.load_model(all_cnn_paths[cnns[c]])\n",
    "        vision_module_sender = tf.keras.Model(inputs=cnn_sender.input, \n",
    "                                              outputs=cnn_sender.get_layer('dense_1').output)\n",
    "        vision_module_receiver = tf.keras.Model(inputs=cnn_receiver.input, \n",
    "                                                outputs=cnn_receiver.get_layer('dense_1').output)\n",
    "        sender = agents.Sender(4, 3, 128, 128, activation='tanh', vision_module=vision_module_sender)\n",
    "        receiver = agents.Receiver(4, 3, 128, 128, activation='tanh', n_distractors=2, \n",
    "                                   vision_module=vision_module_receiver, image_dim=64)\n",
    "        sender.load_weights(path + 'sender_weights_epoch149/')\n",
    "        receiver.load_weights(path + 'receiver_weights_epoch149/')\n",
    "        \n",
    "        messages, _, _, _, _ = sender.forward(sender_input, training=False)\n",
    "        selections, _, _ = receiver.forward(messages, receiver_input, training=False)\n",
    "        selections = ordered_labels[np.arange(len(ordered_labels)), selections.numpy()]\n",
    "        \n",
    "        # calculate entropy scores \n",
    "        entropy_scores = ThreeWayEntropyScores(messages.numpy(), td_labels[0], selections)\n",
    "        all_scores = entropy_scores.calc_all_scores()\n",
    "        scores[condition]['I_OM'].append(all_scores['I_OM'])\n",
    "        scores[condition]['I_MS'].append(all_scores['I_MS'])\n",
    "        scores[condition]['I_OS_given_M'].append(all_scores['I_OS_given_M'])  "
   ]
  },
  {
   "cell_type": "markdown",
   "metadata": {},
   "source": [
    "### test assumptions"
   ]
  },
  {
   "cell_type": "code",
   "execution_count": 6,
   "metadata": {},
   "outputs": [
    {
     "name": "stdout",
     "output_type": "stream",
     "text": [
      "default\n",
      "I(O,S|M):           0.003\n",
      "abs(I(O,M)-I(M,S)): 0.003\n",
      "color\n",
      "I(O,S|M):           0.002\n",
      "abs(I(O,M)-I(M,S)): 0.005\n",
      "scale\n",
      "I(O,S|M):           0.002\n",
      "abs(I(O,M)-I(M,S)): 0.004\n",
      "shape\n",
      "I(O,S|M):           0.001\n",
      "abs(I(O,M)-I(M,S)): 0.004\n",
      "all\n",
      "I(O,S|M):           0.0\n",
      "abs(I(O,M)-I(M,S)): 0.0\n"
     ]
    }
   ],
   "source": [
    "for condition in conditions: \n",
    "    print(condition)\n",
    "    print('I(O,S|M):          ', np.round(np.mean(scores[condition]['I_OS_given_M']), 3))\n",
    "    print('abs(I(O,M)-I(M,S)):', np.round(np.mean(np.abs(np.array(scores[condition]['I_OM']) - \n",
    "                                                        np.array(scores[condition]['I_MS']))), 3))"
   ]
  },
  {
   "cell_type": "markdown",
   "metadata": {},
   "source": [
    "$\\rightarrow$ I(O,S|M) is approximately zero, and I(O,M) is approximately equal to I(M,S)"
   ]
  },
  {
   "cell_type": "markdown",
   "metadata": {},
   "source": [
    "### all scores\n",
    "\n",
    "For the sake of completeness here the mean values of I(O,M) and I(M,S) separately. "
   ]
  },
  {
   "cell_type": "code",
   "execution_count": 7,
   "metadata": {},
   "outputs": [
    {
     "name": "stdout",
     "output_type": "stream",
     "text": [
      "default\n",
      "I(O,M): 2.938\n",
      "I(M,S): 2.935\n",
      "color\n",
      "I(O,M): 2.657\n",
      "I(M,S): 2.66\n",
      "scale\n",
      "I(O,M): 2.475\n",
      "I(M,S): 2.476\n",
      "shape\n",
      "I(O,M): 2.711\n",
      "I(M,S): 2.712\n",
      "all\n",
      "I(O,M): 3.125\n",
      "I(M,S): 3.125\n"
     ]
    }
   ],
   "source": [
    "for condition in conditions: \n",
    "    print(condition)\n",
    "    print('I(O,M):', np.round(np.mean(scores[condition]['I_OM']), 3))\n",
    "    print('I(M,S):', np.round(np.mean(scores[condition]['I_MS']), 3))"
   ]
  },
  {
   "cell_type": "code",
   "execution_count": null,
   "metadata": {},
   "outputs": [],
   "source": []
  }
 ],
 "metadata": {
  "kernelspec": {
   "display_name": "Python 3",
   "language": "python",
   "name": "python3"
  },
  "language_info": {
   "codemirror_mode": {
    "name": "ipython",
    "version": 3
   },
   "file_extension": ".py",
   "mimetype": "text/x-python",
   "name": "python",
   "nbconvert_exporter": "python",
   "pygments_lexer": "ipython3",
   "version": "3.7.9"
  }
 },
 "nbformat": 4,
 "nbformat_minor": 4
}
