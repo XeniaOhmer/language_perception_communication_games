{
 "cells": [
  {
   "cell_type": "markdown",
   "metadata": {},
   "source": [
    "# mixed models grid search\n",
    "\n",
    "Here, we try to find the best mixed-trait models for the evolutionary analysis. Always two out of three attributes are enforced with label smoothing. We vary the weighting between the two traits and the smoothing factor. The goal is to find models for each combination (color-scale, color-shape, scale-shape) such that the bias for enforced attributes is strong, and approximately equally strong, while the bias for the remaining attribute is approximately zero. In addition, the classification accuracies should be relatively high."
   ]
  },
  {
   "cell_type": "code",
   "execution_count": 1,
   "metadata": {},
   "outputs": [],
   "source": [
    "import pickle\n",
    "import numpy as np\n",
    "import matplotlib.pyplot as plt\n",
    "from scipy.spatial import distance\n",
    "from utils.vision_analysis import save_rsa_cnns"
   ]
  },
  {
   "cell_type": "markdown",
   "metadata": {},
   "source": [
    "### evaluate bias strength for each network\n",
    "\n",
    "we store these results in the 'results/' folder "
   ]
  },
  {
   "cell_type": "code",
   "execution_count": 2,
   "metadata": {},
   "outputs": [],
   "source": [
    "# for sf in ['0.6', '0.7', '0.8']:\n",
    "#        for tw in ['05', '10', '15', '20', '25', '30', '35', '40', '45', '50', '55', '60',\n",
    "#                   '65', '70', '75', '80', '85', '90', '95']:\n",
    "#             name = 'mixed_tw-' + tw + '_nonlinear_sf-' + str(sf) + '_'\n",
    "#             save_rsa_cnns(sf=sf, tw=tw, n_examples=10, mode='mixed')"
   ]
  },
  {
   "cell_type": "markdown",
   "metadata": {},
   "source": [
    "### training accuracies for each network, and each smoothing factor\n",
    "\n",
    "The lists contain the results for each weighting"
   ]
  },
  {
   "cell_type": "code",
   "execution_count": 3,
   "metadata": {},
   "outputs": [],
   "source": [
    "accuracies = {\n",
    "    'color-shape': {'0.6': [1.0000, 1.0000, 1.0000, 1.0000, 1.0000, 1.0000, 1.0000, 1.0000, 1.0000,\n",
    "                          1.0000, 1.0000, 1.0000, 1.0000, 1.0000, 1.0000, 1.0000, 0.9999, 1.0000, 1.0000],\n",
    "                    '0.7': [1.0000, 1.0000, 1.0000, 1.0000, 0.9835, 1.0000, 0.9996, 0.9678, 0.9999,\n",
    "                         1.0000, 1.0000, 0.9995, 1.0000, 0.9990, 0.9998, 1.0000, 0.9953, 0.9996, 0.9957],\n",
    "                    '0.8': [0.9975, 0.9736, 0.9740, 0.9883, 0.9885, 0.8547, 0.9997, 0.9441, 0.9845,\n",
    "                          0.9952, 0.9143, 0.9639, 0.7619, 0.9477, 0.8554, 0.9872, 0.9701, 0.9759, 0.9898]},\n",
    "                    \n",
    "    'color-size': {'0.6': [1.0000, 1.0000, 0.9999, 1.0000, 1.0000, 1.0000, 1.0000, 1.0000, 1.0000, \n",
    "                         1.0000, 1.0000, 1.0000, 1.0000, 1.0000, 1.0000, 1.0000, 1.0000, 0.9999, 0.9998],\n",
    "                   '0.7': [1.0000, 1.0000, 1.0000, 0.9995, 0.9992, 1.0000, 0.9999, 0.9975, 0.9996,\n",
    "                         0.9999, 1.0000, 1.0000, 1.0000, 0.9999, 1.0000, 0.9991, 1.0000, 1.0000, 0.9997],\n",
    "                   '0.8': [0.9967, 0.9932, 0.6112, 0.9637, 0.5792, 0.9962, 0.9649, 0.8939, 0.7754,\n",
    "                         0.9468, 0.8013, 0.9394, 0.9242, 0.6037, 0.8381, 0.9850, 0.9869, 0.9887, 0.9265]},\n",
    "    \n",
    "    'shape-size': {'0.6': [1.0000, 1.0000, 1.0000, 1.0000, 1.0000, 1.0000, 1.0000, 1.0000, 1.0000, \n",
    "                         1.0000, 1.0000, 1.0000, 1.0000, 1.0000, 1.0000, 1.0000, 1.0000, 1.0000, 1.0000],\n",
    "                   '0.7': [1.0000, 1.0000, 1.0000, 1.0000, 1.0000, 1.0000, 1.0000, 1.0000, 1.0000, \n",
    "                         1.0000, 1.0000, 1.0000, 1.0000, 1.0000, 1.0000, 1.0000, 1.0000, 1.0000, 1.0000],\n",
    "                   '0.8': [0.9003, 0.9992, 0.9624, 0.9551, 0.9738, 0.9120, 0.9957, 0.9522, 0.9980, \n",
    "                         0.9721, 0.9820, 0.9285, 0.9935, 0.9923, 0.9992, 1.0000, 0.9903, 0.9999, 1.0000]}\n",
    "}\n"
   ]
  },
  {
   "cell_type": "markdown",
   "metadata": {},
   "source": [
    "### find best networks\n",
    "\n",
    "We set different minimal bias threshold for enforced attributes, and find the networks with the lowest error given this threshold. The error is calculated as the sum of the absolute difference between enforced attributes and threshold, as well as unenforced attributes and zero. We set the minimal accuracy threshold to 0.97. "
   ]
  },
  {
   "cell_type": "code",
   "execution_count": 15,
   "metadata": {},
   "outputs": [],
   "source": [
    "def find_best_networks(threshold_enforced, min_training_acc=0.97):\n",
    "    \n",
    "    for sf in ['0.6', '0.7', '0.8']:\n",
    "        \n",
    "        mean_enforced = []\n",
    "\n",
    "        best_matches = {'color-size': ['name', 'sf', None, None, None],\n",
    "                        'color-shape': ['name', 'sf', None, None, None],\n",
    "                        'shape-size': ['name', 'sf', None, None, None], \n",
    "                        'accuracy': [[],[],[]],\n",
    "                        'error': [[100],[100],[100]],\n",
    "                       }\n",
    "\n",
    "        for i, tw in enumerate(['05', '10', '15', '20', '25', '30', '35', '40', '45', \n",
    "                                '50', '55', '60', '65', '70', '75', '80', '85', '90', '95']):\n",
    "\n",
    "            name = 'mixed_tw-' + tw + '_nonlinear_sf-' + str(sf) + '_'\n",
    "            path = 'results/rsa_attributes_CNNfeatures/' + name + '10examples.pkl'\n",
    "            results = pickle.load(open(path, 'rb'))\n",
    "\n",
    "            for n, network in enumerate(['color-size', 'color-shape', 'shape-size']):\n",
    "\n",
    "                better = False\n",
    "\n",
    "                acc = accuracies[network][sf][i]\n",
    "                differences = {}\n",
    "\n",
    "                biases = network.split('-')\n",
    "                if biases[1] == 'size': \n",
    "                    biases[1] = 'scale'\n",
    "\n",
    "                for nonbias in ['color', 'scale', 'shape']:\n",
    "                    if nonbias not in biases: \n",
    "                        difference_nonbias = abs(results[network][nonbias] - 0)\n",
    "\n",
    "                for bias in biases: \n",
    "                    differences[bias] = abs(results[network][bias] - threshold_enforced)\n",
    "                    mean_enforced.append(results[network][bias])\n",
    "                \n",
    "                error = np.sum(list(differences.values())) + difference_nonbias\n",
    "                if (error < best_matches['error'][n] and acc > min_training_acc):\n",
    "                    better = True\n",
    "\n",
    "                if better: \n",
    "                    best_matches[network] = [tw, sf,\n",
    "                                             np.round(differences[biases[0]],4), \n",
    "                                             np.round(differences[biases[1]], 4), \n",
    "                                             np.round(difference_nonbias, 4)]\n",
    "                    best_matches['accuracy'][n] = acc\n",
    "                    best_matches['error'][n] = error\n",
    "    return best_matches"
   ]
  },
  {
   "cell_type": "code",
   "execution_count": 17,
   "metadata": {},
   "outputs": [
    {
     "name": "stdout",
     "output_type": "stream",
     "text": [
      "bias threshold: 0.35 , error: [0.22758378667398005, 0.16058423151261245, 0.11759302292636874]\n",
      "bias threshold: 0.4 , error: [0.12758378667397996, 0.09444285173919093, 0.03597137814275984]\n",
      "bias threshold: 0.45 , error: [0.03893094510534477, 0.02472987775250296, 0.03540558856385197]\n",
      "bias threshold: 0.5 , error: [0.07282672448376847, 0.10905065843971323, 0.10698489337827773]\n",
      "bias threshold: 0.55 , error: [0.17282672448376857, 0.20905065843971332, 0.19124165963151313]\n"
     ]
    }
   ],
   "source": [
    "for threshold in [0.35, 0.40, 0.45, 0.50, 0.55]:\n",
    "    best_matches = find_best_networks(threshold)\n",
    "    print('bias threshold:', threshold, ', error:', best_matches['error'])"
   ]
  },
  {
   "cell_type": "markdown",
   "metadata": {},
   "source": [
    "$\\rightarrow$ turns out the smallest error is achieved with threshold 0.45, hence we choose the networks that optimize for this threshold. "
   ]
  },
  {
   "cell_type": "code",
   "execution_count": 18,
   "metadata": {},
   "outputs": [
    {
     "name": "stdout",
     "output_type": "stream",
     "text": [
      "color-size ['30', '0.8', 0.0057, 0.0331, 0.0002]\n",
      "color-shape ['35', '0.8', 0.0078, 0.0151, 0.0017]\n",
      "shape-size ['25', '0.8', 0.02, 0.0142, 0.0012]\n",
      "accuracy [0.9962, 0.9997, 0.9738]\n",
      "error [0.03893094510534477, 0.02472987775250296, 0.03540558856385197]\n"
     ]
    }
   ],
   "source": [
    "best_matches = find_best_networks(0.45)\n",
    "[print(k, best_matches[k]) for k in best_matches.keys()][0]"
   ]
  },
  {
   "cell_type": "markdown",
   "metadata": {},
   "source": [
    "$\\rightarrow$ We use the networks: \n",
    "    \n",
    "* color-size: weighting 0.3, smoothing factor 0.8\n",
    "* color-shape: weighting: 0.35, smoothing factor 0.8\n",
    "* scale-shape: weighting: 0.25, smoothing factor 0.8"
   ]
  },
  {
   "cell_type": "code",
   "execution_count": null,
   "metadata": {},
   "outputs": [],
   "source": []
  }
 ],
 "metadata": {
  "kernelspec": {
   "display_name": "Python 3",
   "language": "python",
   "name": "python3"
  },
  "language_info": {
   "codemirror_mode": {
    "name": "ipython",
    "version": 3
   },
   "file_extension": ".py",
   "mimetype": "text/x-python",
   "name": "python",
   "nbconvert_exporter": "python",
   "pygments_lexer": "ipython3",
   "version": "3.7.9"
  }
 },
 "nbformat": 4,
 "nbformat_minor": 4
}
